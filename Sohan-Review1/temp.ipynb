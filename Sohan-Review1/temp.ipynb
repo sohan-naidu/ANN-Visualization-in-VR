{
 "cells": [
  {
   "cell_type": "code",
   "execution_count": 1,
   "metadata": {},
   "outputs": [],
   "source": [
    "import torch\n",
    "from onnx2torch import convert"
   ]
  },
  {
   "cell_type": "code",
   "execution_count": 2,
   "metadata": {},
   "outputs": [],
   "source": [
    "path = \"D:\\\\Unity\\\\UnityProjects\\\\Review 1\\\\Assets\\\\Scripts\\\\Capstone\\\\Sohan-Review1\\\\ANN.onnx\""
   ]
  },
  {
   "cell_type": "code",
   "execution_count": 3,
   "metadata": {},
   "outputs": [],
   "source": [
    "model = convert(path)"
   ]
  },
  {
   "cell_type": "code",
   "execution_count": 10,
   "metadata": {},
   "outputs": [
    {
     "name": "stdout",
     "output_type": "stream",
     "text": [
      "OrderedDict([('initializers.onnx_initializer_0', tensor([[ 0.2770, -0.3484,  0.1753, -0.3548,  0.2815],\n",
      "        [ 0.0601, -0.2946,  0.1864, -0.2260,  0.1261],\n",
      "        [-0.1426,  0.3028, -0.0883,  0.3305, -0.1891],\n",
      "        [-0.0891,  0.0901, -0.0387,  0.1591,  0.0017],\n",
      "        [ 0.0873,  0.0422, -0.0785,  0.0435,  0.0316],\n",
      "        [ 0.1128,  0.0356,  0.1181,  0.0722, -0.0297],\n",
      "        [ 0.0668,  0.0212, -0.0087, -0.0107,  0.0065]])), ('initializers.onnx_initializer_1', tensor([0.3093, 0.1913, 0.2635, 0.1734, 0.3002])), ('initializers.onnx_initializer_2', tensor([[ 0.2582, -0.2614, -0.3272,  0.2495,  0.3556],\n",
      "        [-0.2886,  0.3015,  0.2634, -0.2878, -0.3001],\n",
      "        [ 0.1791, -0.2043, -0.2044,  0.2259,  0.3094],\n",
      "        [-0.2616,  0.2790,  0.3107, -0.2904, -0.2591],\n",
      "        [ 0.2874, -0.1995, -0.2764,  0.2696,  0.2041]])), ('initializers.onnx_initializer_3', tensor([-0.0529,  0.0480,  0.0415, -0.0454, -0.0454])), ('initializers.onnx_initializer_4', tensor([[-0.3855],\n",
      "        [ 0.3563],\n",
      "        [ 0.4123],\n",
      "        [-0.3765],\n",
      "        [-0.4090]])), ('initializers.onnx_initializer_5', tensor([0.0657]))])\n"
     ]
    }
   ],
   "source": [
    "print(model.state_dict())"
   ]
  }
 ],
 "metadata": {
  "kernelspec": {
   "display_name": "Python 3.9.7 64-bit",
   "language": "python",
   "name": "python3"
  },
  "language_info": {
   "codemirror_mode": {
    "name": "ipython",
    "version": 3
   },
   "file_extension": ".py",
   "mimetype": "text/x-python",
   "name": "python",
   "nbconvert_exporter": "python",
   "pygments_lexer": "ipython3",
   "version": "3.9.7"
  },
  "orig_nbformat": 4,
  "vscode": {
   "interpreter": {
    "hash": "7b8f719ba4be990d48d5d79d13322d4aa39842e56a0d0263f5000a4c3e01c816"
   }
  }
 },
 "nbformat": 4,
 "nbformat_minor": 2
}
