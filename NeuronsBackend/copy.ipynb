{
 "cells": [
  {
   "cell_type": "code",
   "execution_count": 1,
   "metadata": {},
   "outputs": [
    {
     "data": {
      "text/html": [
       "<div>\n",
       "<style scoped>\n",
       "    .dataframe tbody tr th:only-of-type {\n",
       "        vertical-align: middle;\n",
       "    }\n",
       "\n",
       "    .dataframe tbody tr th {\n",
       "        vertical-align: top;\n",
       "    }\n",
       "\n",
       "    .dataframe thead th {\n",
       "        text-align: right;\n",
       "    }\n",
       "</style>\n",
       "<table border=\"1\" class=\"dataframe\">\n",
       "  <thead>\n",
       "    <tr style=\"text-align: right;\">\n",
       "      <th></th>\n",
       "      <th>Age</th>\n",
       "      <th>KM</th>\n",
       "      <th>Weight</th>\n",
       "      <th>HP</th>\n",
       "      <th>MetColor</th>\n",
       "      <th>CC</th>\n",
       "      <th>Doors</th>\n",
       "      <th>Price</th>\n",
       "    </tr>\n",
       "  </thead>\n",
       "  <tbody>\n",
       "    <tr>\n",
       "      <th>0</th>\n",
       "      <td>23.0</td>\n",
       "      <td>46986</td>\n",
       "      <td>1165.0</td>\n",
       "      <td>90</td>\n",
       "      <td>1</td>\n",
       "      <td>2000.0</td>\n",
       "      <td>3</td>\n",
       "      <td>13500</td>\n",
       "    </tr>\n",
       "    <tr>\n",
       "      <th>1</th>\n",
       "      <td>23.0</td>\n",
       "      <td>72937</td>\n",
       "      <td>1165.0</td>\n",
       "      <td>90</td>\n",
       "      <td>1</td>\n",
       "      <td>2000.0</td>\n",
       "      <td>3</td>\n",
       "      <td>13750</td>\n",
       "    </tr>\n",
       "    <tr>\n",
       "      <th>2</th>\n",
       "      <td>24.0</td>\n",
       "      <td>41711</td>\n",
       "      <td>1165.0</td>\n",
       "      <td>90</td>\n",
       "      <td>1</td>\n",
       "      <td>2000.0</td>\n",
       "      <td>3</td>\n",
       "      <td>13950</td>\n",
       "    </tr>\n",
       "    <tr>\n",
       "      <th>3</th>\n",
       "      <td>26.0</td>\n",
       "      <td>48000</td>\n",
       "      <td>1165.0</td>\n",
       "      <td>90</td>\n",
       "      <td>0</td>\n",
       "      <td>2000.0</td>\n",
       "      <td>3</td>\n",
       "      <td>14950</td>\n",
       "    </tr>\n",
       "    <tr>\n",
       "      <th>4</th>\n",
       "      <td>30.0</td>\n",
       "      <td>38500</td>\n",
       "      <td>1170.0</td>\n",
       "      <td>90</td>\n",
       "      <td>0</td>\n",
       "      <td>2000.0</td>\n",
       "      <td>3</td>\n",
       "      <td>13750</td>\n",
       "    </tr>\n",
       "  </tbody>\n",
       "</table>\n",
       "</div>"
      ],
      "text/plain": [
       "    Age     KM  Weight  HP  MetColor      CC  Doors  Price\n",
       "0  23.0  46986  1165.0  90         1  2000.0      3  13500\n",
       "1  23.0  72937  1165.0  90         1  2000.0      3  13750\n",
       "2  24.0  41711  1165.0  90         1  2000.0      3  13950\n",
       "3  26.0  48000  1165.0  90         0  2000.0      3  14950\n",
       "4  30.0  38500  1170.0  90         0  2000.0      3  13750"
      ]
     },
     "execution_count": 1,
     "metadata": {},
     "output_type": "execute_result"
    }
   ],
   "source": [
    "# Reading the cleaned numeric car prices data\n",
    "import pandas as pd\n",
    "import numpy as np\n",
    "\n",
    "# To remove the scientific notation from numpy arrays\n",
    "np.set_printoptions(suppress=True)\n",
    "\n",
    "CarPricesDataNumeric=pd.read_pickle('CarPricesData.pkl')\n",
    "CarPricesDataNumeric.head()"
   ]
  },
  {
   "cell_type": "code",
   "execution_count": 2,
   "metadata": {},
   "outputs": [
    {
     "name": "stdout",
     "output_type": "stream",
     "text": [
      "(1004, 7)\n",
      "(1004, 1)\n",
      "(431, 7)\n",
      "(431, 1)\n"
     ]
    }
   ],
   "source": [
    "# Separate Target Variable and Predictor Variables\n",
    "TargetVariable=['Price']\n",
    "Predictors=['Age', 'KM', 'Weight', 'HP', 'MetColor', 'CC', 'Doors']\n",
    "\n",
    "X=CarPricesDataNumeric[Predictors].values\n",
    "y=CarPricesDataNumeric[TargetVariable].values\n",
    "\n",
    "### Sandardization of data ###\n",
    "from sklearn.preprocessing import StandardScaler\n",
    "PredictorScaler=StandardScaler()\n",
    "TargetVarScaler=StandardScaler()\n",
    "\n",
    "# Storing the fit object for later reference\n",
    "PredictorScalerFit=PredictorScaler.fit(X)\n",
    "TargetVarScalerFit=TargetVarScaler.fit(y)\n",
    "\n",
    "# Generating the standardized values of X and y\n",
    "X=PredictorScalerFit.transform(X)\n",
    "y=TargetVarScalerFit.transform(y)\n",
    "\n",
    "# Split the data into training and testing set\n",
    "from sklearn.model_selection import train_test_split\n",
    "X_train, X_test, y_train, y_test = train_test_split(X, y, test_size=0.3, random_state=42)\n",
    "\n",
    "# Quick sanity check with the shapes of Training and testing datasets\n",
    "print(X_train.shape)\n",
    "print(y_train.shape)\n",
    "print(X_test.shape)\n",
    "print(y_test.shape)"
   ]
  },
  {
   "cell_type": "code",
   "execution_count": 3,
   "metadata": {},
   "outputs": [],
   "source": [
    "# importing the libraries\n",
    "from unicodedata import name\n",
    "from keras.models import Sequential\n",
    "from keras.layers import Dense\n",
    "\n"
   ]
  },
  {
   "cell_type": "code",
   "execution_count": 4,
   "metadata": {},
   "outputs": [],
   "source": [
    "# create ANN model\n",
    "model = Sequential()\n",
    "\n",
    "# Defining the Input layer and FIRST hidden layer, both are same!\n",
    "model.add(Dense(units=5, input_dim=7, kernel_initializer='normal', activation='relu'))\n",
    "\n",
    "# Defining the Second layer of the model\n",
    "# after the first layer we don't have to specify input_dim as keras configure it automatically\n",
    "model.add(Dense(units=5, kernel_initializer='normal', activation='tanh'))\n",
    "\n",
    "# The output neuron is a single fully connected node \n",
    "# Since we will be predicting a single number\n",
    "model.add(Dense(1, kernel_initializer='normal'))\n",
    "\n",
    "# Compiling the model\n",
    "\n"
   ]
  },
  {
   "cell_type": "code",
   "execution_count": 30,
   "metadata": {},
   "outputs": [
    {
     "data": {
      "text/plain": [
       "[array([[ 0.31831685,  0.33394933, -0.43750423, -0.33683425,  0.3786552 ],\n",
       "        [ 0.15994962,  0.20965905, -0.28070065, -0.36201048,  0.18956943],\n",
       "        [-0.18329208, -0.12423095,  0.2913063 ,  0.31535178, -0.04884465],\n",
       "        [-0.06690186, -0.06780812,  0.14852418,  0.09489351, -0.05890552],\n",
       "        [ 0.0269471 ,  0.07935409,  0.06390228,  0.03016863, -0.04313393],\n",
       "        [ 0.02171175,  0.04511083,  0.08256464,  0.06256074,  0.05368106],\n",
       "        [-0.02971505, -0.03649281,  0.00358103,  0.03395367,  0.07648739]],\n",
       "       dtype=float32),\n",
       " array([0.3334251 , 0.3289941 , 0.18815829, 0.17101094, 0.3210736 ],\n",
       "       dtype=float32),\n",
       " array([[ 0.21091138,  0.24533753,  0.23165822, -0.27847084,  0.26929978],\n",
       "        [ 0.15186447,  0.2310069 ,  0.26374274, -0.24854128,  0.23394798],\n",
       "        [-0.38414374, -0.3470676 , -0.3360146 ,  0.2916963 , -0.27829722],\n",
       "        [-0.3294085 , -0.33712414, -0.29864788,  0.2486087 , -0.31739637],\n",
       "        [ 0.14373732,  0.21956322,  0.1360844 , -0.2890829 ,  0.28210488]],\n",
       "       dtype=float32),\n",
       " array([ 0.01081304,  0.01141199, -0.01154327,  0.04955203, -0.04416578],\n",
       "       dtype=float32),\n",
       " array([[-0.27867353],\n",
       "        [-0.36213124],\n",
       "        [-0.32563624],\n",
       "        [ 0.36276785],\n",
       "        [-0.3366869 ]], dtype=float32),\n",
       " array([0.06413758], dtype=float32)]"
      ]
     },
     "execution_count": 30,
     "metadata": {},
     "output_type": "execute_result"
    }
   ],
   "source": [
    "model.get_weights()"
   ]
  },
  {
   "cell_type": "code",
   "execution_count": 5,
   "metadata": {},
   "outputs": [],
   "source": [
    "model.compile(loss='mean_squared_error', optimizer='adam')"
   ]
  },
  {
   "cell_type": "code",
   "execution_count": 6,
   "metadata": {},
   "outputs": [
    {
     "name": "stdout",
     "output_type": "stream",
     "text": [
      "67/67 [==============================] - 0s 1ms/step - loss: 0.9762\n",
      "67/67 [==============================] - 0s 1ms/step - loss: 0.8380\n",
      "67/67 [==============================] - 0s 1ms/step - loss: 0.4962\n",
      "67/67 [==============================] - 0s 1ms/step - loss: 0.3036\n",
      "67/67 [==============================] - 0s 1ms/step - loss: 0.2467\n"
     ]
    }
   ],
   "source": [
    "for _ in range(5):\n",
    "    model.fit(X_train, y_train, batch_size = 15, epochs = 1, verbose=1)\n",
    "\n",
    "\n",
    "model.save_weights('weights', save_format='h5')\n",
    "\n"
   ]
  },
  {
   "cell_type": "code",
   "execution_count": 1,
   "metadata": {},
   "outputs": [],
   "source": [
    "import h5py\n",
    "hf = h5py.File('weights', 'r+')"
   ]
  },
  {
   "cell_type": "code",
   "execution_count": 2,
   "metadata": {},
   "outputs": [
    {
     "data": {
      "text/plain": [
       "['dense', 'dense_1', 'dense_2', 'top_level_model_weights']"
      ]
     },
     "execution_count": 2,
     "metadata": {},
     "output_type": "execute_result"
    }
   ],
   "source": [
    "list(hf.keys())"
   ]
  },
  {
   "cell_type": "code",
   "execution_count": 3,
   "metadata": {},
   "outputs": [
    {
     "name": "stdout",
     "output_type": "stream",
     "text": [
      "['dense', 'dense/dense', 'dense/dense/bias:0', 'dense/dense/kernel:0', 'dense_1', 'dense_1/dense_1', 'dense_1/dense_1/bias:0', 'dense_1/dense_1/kernel:0', 'dense_2', 'dense_2/dense_2', 'dense_2/dense_2/bias:0', 'dense_2/dense_2/kernel:0', 'top_level_model_weights']\n"
     ]
    }
   ],
   "source": [
    "a = []\n",
    "hf.visit(a.append)\n",
    "print(a)"
   ]
  },
  {
   "cell_type": "code",
   "execution_count": null,
   "metadata": {},
   "outputs": [],
   "source": [
    "hf.close()"
   ]
  },
  {
   "cell_type": "code",
   "execution_count": 10,
   "metadata": {},
   "outputs": [],
   "source": [
    "arr = np.array(hf['dense_1/dense_1/kernel:0'])"
   ]
  },
  {
   "cell_type": "code",
   "execution_count": 11,
   "metadata": {},
   "outputs": [
    {
     "name": "stdout",
     "output_type": "stream",
     "text": [
      "[[ 0.21091138  0.24533753  0.23165822 -0.27847084  0.26929978]\n",
      " [ 0.15186447  0.2310069   0.26374274 -0.24854128  0.23394798]\n",
      " [-0.38414374 -0.3470676  -0.3360146   0.2916963  -0.27829722]\n",
      " [-0.3294085  -0.33712414 -0.29864788  0.2486087  -0.31739637]\n",
      " [ 0.14373732  0.21956322  0.1360844  -0.2890829   0.28210488]]\n"
     ]
    }
   ],
   "source": [
    "print(arr)"
   ]
  },
  {
   "cell_type": "code",
   "execution_count": 12,
   "metadata": {},
   "outputs": [],
   "source": [
    "new = np.random.normal(-0.3, 0.3, size=(arr.shape[0], 1))"
   ]
  },
  {
   "cell_type": "code",
   "execution_count": 13,
   "metadata": {},
   "outputs": [
    {
     "name": "stdout",
     "output_type": "stream",
     "text": [
      "[[-0.27082041]\n",
      " [-0.55167372]\n",
      " [-0.55973761]\n",
      " [ 0.13040608]\n",
      " [-0.11083461]]\n"
     ]
    }
   ],
   "source": [
    "print(new)"
   ]
  },
  {
   "cell_type": "code",
   "execution_count": 14,
   "metadata": {},
   "outputs": [],
   "source": [
    "verynew = np.append(arr, new, axis = 1)"
   ]
  },
  {
   "cell_type": "code",
   "execution_count": 15,
   "metadata": {},
   "outputs": [
    {
     "name": "stdout",
     "output_type": "stream",
     "text": [
      "[[ 0.21091138  0.24533753  0.23165822 -0.27847084  0.26929978 -0.27082041]\n",
      " [ 0.15186447  0.23100691  0.26374274 -0.24854128  0.23394798 -0.55167372]\n",
      " [-0.38414374 -0.34706759 -0.3360146   0.29169631 -0.27829722 -0.55973761]\n",
      " [-0.3294085  -0.33712414 -0.29864788  0.24860869 -0.31739637  0.13040608]\n",
      " [ 0.14373732  0.21956322  0.13608439 -0.28908291  0.28210488 -0.11083461]]\n"
     ]
    }
   ],
   "source": [
    "print(verynew)"
   ]
  },
  {
   "cell_type": "code",
   "execution_count": 16,
   "metadata": {},
   "outputs": [
    {
     "name": "stdout",
     "output_type": "stream",
     "text": [
      "[[ 0.21091138  0.24533753  0.23165822 -0.27847084  0.26929978]\n",
      " [ 0.15186447  0.2310069   0.26374274 -0.24854128  0.23394798]\n",
      " [-0.38414374 -0.3470676  -0.3360146   0.2916963  -0.27829722]\n",
      " [-0.3294085  -0.33712414 -0.29864788  0.2486087  -0.31739637]\n",
      " [ 0.14373732  0.21956322  0.1360844  -0.2890829   0.28210488]]\n",
      "[[ 0.21091138  0.24533753  0.23165822 -0.27847084  0.26929978 -0.27082041]\n",
      " [ 0.15186447  0.23100691  0.26374274 -0.24854128  0.23394798 -0.55167372]\n",
      " [-0.38414374 -0.34706759 -0.3360146   0.29169631 -0.27829722 -0.55973761]\n",
      " [-0.3294085  -0.33712414 -0.29864788  0.24860869 -0.31739637  0.13040608]\n",
      " [ 0.14373732  0.21956322  0.13608439 -0.28908291  0.28210488 -0.11083461]]\n"
     ]
    }
   ],
   "source": [
    "print(arr)\n",
    "print(verynew)"
   ]
  },
  {
   "cell_type": "code",
   "execution_count": 18,
   "metadata": {},
   "outputs": [],
   "source": [
    "del hf['dense_1/dense_1/kernel:0']"
   ]
  },
  {
   "cell_type": "code",
   "execution_count": 19,
   "metadata": {},
   "outputs": [],
   "source": [
    "newdata = hf.create_dataset(\"dense_1/dense_1/kernel:0\", (5, 6), maxshape = (100, 100), data = verynew)"
   ]
  },
  {
   "cell_type": "code",
   "execution_count": 20,
   "metadata": {},
   "outputs": [
    {
     "name": "stdout",
     "output_type": "stream",
     "text": [
      "['dense', 'dense/dense', 'dense/dense/bias:0', 'dense/dense/kernel:0', 'dense_1', 'dense_1/dense_1', 'dense_1/dense_1/bias:0', 'dense_1/dense_1/kernel:0', 'dense_2', 'dense_2/dense_2', 'dense_2/dense_2/bias:0', 'dense_2/dense_2/kernel:0', 'top_level_model_weights']\n"
     ]
    }
   ],
   "source": [
    "b = []\n",
    "hf.visit(b.append)\n",
    "print(b)"
   ]
  },
  {
   "cell_type": "code",
   "execution_count": 21,
   "metadata": {},
   "outputs": [
    {
     "name": "stdout",
     "output_type": "stream",
     "text": [
      "['dense', 'dense/dense', 'dense/dense/bias:0', 'dense/dense/kernel:0', 'dense_1', 'dense_1/dense_1', 'dense_1/dense_1/bias:0', 'dense_1/dense_1/kernel:0', 'dense_2', 'dense_2/dense_2', 'dense_2/dense_2/bias:0', 'dense_2/dense_2/kernel:0', 'top_level_model_weights']\n",
      "['dense', 'dense/dense', 'dense/dense/bias:0', 'dense/dense/kernel:0', 'dense_1', 'dense_1/dense_1', 'dense_1/dense_1/bias:0', 'dense_1/dense_1/kernel:0', 'dense_2', 'dense_2/dense_2', 'dense_2/dense_2/bias:0', 'dense_2/dense_2/kernel:0', 'top_level_model_weights']\n"
     ]
    }
   ],
   "source": [
    "print(a)\n",
    "print(b)"
   ]
  },
  {
   "cell_type": "code",
   "execution_count": 22,
   "metadata": {},
   "outputs": [],
   "source": [
    "arr = np.array(hf['dense_1/dense_1/kernel:0'])"
   ]
  },
  {
   "cell_type": "code",
   "execution_count": 23,
   "metadata": {},
   "outputs": [
    {
     "name": "stdout",
     "output_type": "stream",
     "text": [
      "[[ 0.21091138  0.24533753  0.23165822 -0.27847084  0.26929978 -0.27082041]\n",
      " [ 0.15186447  0.23100691  0.26374274 -0.24854128  0.23394798 -0.55167372]\n",
      " [-0.38414374 -0.34706759 -0.3360146   0.29169631 -0.27829722 -0.55973761]\n",
      " [-0.3294085  -0.33712414 -0.29864788  0.24860869 -0.31739637  0.13040608]\n",
      " [ 0.14373732  0.21956322  0.13608439 -0.28908291  0.28210488 -0.11083461]]\n"
     ]
    }
   ],
   "source": [
    "print(arr)"
   ]
  },
  {
   "cell_type": "code",
   "execution_count": 24,
   "metadata": {},
   "outputs": [],
   "source": [
    "del hf['dense_1/dense_1/bias:0']"
   ]
  },
  {
   "cell_type": "code",
   "execution_count": 25,
   "metadata": {},
   "outputs": [],
   "source": [
    "newdata = hf.create_dataset(\"dense_1/dense_1/bias:0\", (6, ), maxshape = (100, ))"
   ]
  },
  {
   "cell_type": "code",
   "execution_count": 26,
   "metadata": {},
   "outputs": [
    {
     "name": "stdout",
     "output_type": "stream",
     "text": [
      "['dense', 'dense/dense', 'dense/dense/bias:0', 'dense/dense/kernel:0', 'dense_1', 'dense_1/dense_1', 'dense_1/dense_1/bias:0', 'dense_1/dense_1/kernel:0', 'dense_2', 'dense_2/dense_2', 'dense_2/dense_2/bias:0', 'dense_2/dense_2/kernel:0', 'top_level_model_weights']\n",
      "['dense', 'dense/dense', 'dense/dense/bias:0', 'dense/dense/kernel:0', 'dense_1', 'dense_1/dense_1', 'dense_1/dense_1/bias:0', 'dense_1/dense_1/kernel:0', 'dense_2', 'dense_2/dense_2', 'dense_2/dense_2/bias:0', 'dense_2/dense_2/kernel:0', 'top_level_model_weights']\n"
     ]
    }
   ],
   "source": [
    "print(a)\n",
    "print(b)"
   ]
  },
  {
   "cell_type": "code",
   "execution_count": 27,
   "metadata": {},
   "outputs": [],
   "source": [
    "del hf['dense_2/dense_2/kernel:0']"
   ]
  },
  {
   "cell_type": "code",
   "execution_count": 28,
   "metadata": {},
   "outputs": [],
   "source": [
    "newdata = hf.create_dataset(\"dense_2/dense_2/kernel:0\", (6, 1), maxshape = (100, 100))"
   ]
  },
  {
   "cell_type": "code",
   "execution_count": 29,
   "metadata": {},
   "outputs": [],
   "source": [
    "hf.close()"
   ]
  }
 ],
 "metadata": {
  "kernelspec": {
   "display_name": "Python 3.9.7 64-bit",
   "language": "python",
   "name": "python3"
  },
  "language_info": {
   "codemirror_mode": {
    "name": "ipython",
    "version": 3
   },
   "file_extension": ".py",
   "mimetype": "text/x-python",
   "name": "python",
   "nbconvert_exporter": "python",
   "pygments_lexer": "ipython3",
   "version": "3.9.7"
  },
  "orig_nbformat": 4,
  "vscode": {
   "interpreter": {
    "hash": "7b8f719ba4be990d48d5d79d13322d4aa39842e56a0d0263f5000a4c3e01c816"
   }
  }
 },
 "nbformat": 4,
 "nbformat_minor": 2
}
