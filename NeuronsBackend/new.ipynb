{
 "cells": [
  {
   "cell_type": "code",
   "execution_count": 59,
   "metadata": {},
   "outputs": [],
   "source": [
    "import onnx\n",
    "from onnx2keras import onnx_to_keras"
   ]
  },
  {
   "cell_type": "code",
   "execution_count": 60,
   "metadata": {},
   "outputs": [
    {
     "name": "stderr",
     "output_type": "stream",
     "text": [
      "INFO:onnx2keras:Converter is called.\n",
      "DEBUG:onnx2keras:List input shapes:\n",
      "DEBUG:onnx2keras:None\n",
      "DEBUG:onnx2keras:List inputs:\n",
      "DEBUG:onnx2keras:Input 0 -> _input.\n",
      "DEBUG:onnx2keras:List outputs:\n",
      "DEBUG:onnx2keras:Output 0 -> dense_12.\n",
      "DEBUG:onnx2keras:Gathering weights to dictionary.\n",
      "DEBUG:onnx2keras:Found weight sequential_5//MatMul/ReadVariableOp0 with shape (7, 5).\n",
      "DEBUG:onnx2keras:Found weight sequential_5/dense_11/MatMul/ReadVariableOp0 with shape (5, 5).\n",
      "DEBUG:onnx2keras:Found weight sequential_5/dense_12/MatMul/ReadVariableOp0 with shape (5, 1).\n",
      "DEBUG:onnx2keras:Found input _input with shape [7]\n",
      "DEBUG:onnx2keras:######\n",
      "DEBUG:onnx2keras:...\n",
      "DEBUG:onnx2keras:Converting ONNX operation\n",
      "DEBUG:onnx2keras:type: MatMul\n",
      "DEBUG:onnx2keras:node_name: sequential_5//MatMul0\n",
      "DEBUG:onnx2keras:node_params: {'change_ordering': False, 'name_policy': None}\n",
      "DEBUG:onnx2keras:...\n",
      "DEBUG:onnx2keras:Check if all inputs are available:\n",
      "DEBUG:onnx2keras:Check input 0 (name _input).\n",
      "DEBUG:onnx2keras:Check input 1 (name sequential_5//MatMul/ReadVariableOp0).\n",
      "DEBUG:onnx2keras:The input not found in layers / model inputs.\n",
      "DEBUG:onnx2keras:Found in weights, add as a numpy constant.\n",
      "DEBUG:onnx2keras:... found all, continue\n",
      "DEBUG:onnx2keras:gemm:Convert GEMM without bias.\n",
      "DEBUG:onnx2keras:gemm:Input units 7, output units 5.\n",
      "DEBUG:onnx2keras:Output TF Layer -> KerasTensor(type_spec=TensorSpec(shape=(None, 5), dtype=tf.float32, name=None), name='sequential_5//MatMul0/MatMul:0', description=\"created by layer 'sequential_5//MatMul0'\")\n",
      "DEBUG:onnx2keras:######\n",
      "DEBUG:onnx2keras:...\n",
      "DEBUG:onnx2keras:Converting ONNX operation\n",
      "DEBUG:onnx2keras:type: Relu\n",
      "DEBUG:onnx2keras:node_name: sequential_5//Relu0\n",
      "DEBUG:onnx2keras:node_params: {'change_ordering': False, 'name_policy': None}\n",
      "DEBUG:onnx2keras:...\n",
      "DEBUG:onnx2keras:Check if all inputs are available:\n",
      "DEBUG:onnx2keras:Check input 0 (name sequential_5//MatMul0).\n",
      "DEBUG:onnx2keras:... found all, continue\n",
      "DEBUG:onnx2keras:Output TF Layer -> KerasTensor(type_spec=TensorSpec(shape=(None, 5), dtype=tf.float32, name=None), name='sequential_5//Relu0/Relu:0', description=\"created by layer 'sequential_5//Relu0'\")\n",
      "DEBUG:onnx2keras:######\n",
      "DEBUG:onnx2keras:...\n",
      "DEBUG:onnx2keras:Converting ONNX operation\n",
      "DEBUG:onnx2keras:type: MatMul\n",
      "DEBUG:onnx2keras:node_name: sequential_5/dense_11/MatMul0\n",
      "DEBUG:onnx2keras:node_params: {'change_ordering': False, 'name_policy': None}\n",
      "DEBUG:onnx2keras:...\n",
      "DEBUG:onnx2keras:Check if all inputs are available:\n",
      "DEBUG:onnx2keras:Check input 0 (name sequential_5//Relu0).\n",
      "DEBUG:onnx2keras:Check input 1 (name sequential_5/dense_11/MatMul/ReadVariableOp0).\n",
      "DEBUG:onnx2keras:The input not found in layers / model inputs.\n",
      "DEBUG:onnx2keras:Found in weights, add as a numpy constant.\n",
      "DEBUG:onnx2keras:... found all, continue\n",
      "DEBUG:onnx2keras:gemm:Convert GEMM without bias.\n",
      "DEBUG:onnx2keras:gemm:Input units 5, output units 5.\n",
      "DEBUG:onnx2keras:Output TF Layer -> KerasTensor(type_spec=TensorSpec(shape=(None, 5), dtype=tf.float32, name=None), name='sequential_5/dense_11/MatMul0/MatMul:0', description=\"created by layer 'sequential_5/dense_11/MatMul0'\")\n",
      "DEBUG:onnx2keras:######\n",
      "DEBUG:onnx2keras:...\n",
      "DEBUG:onnx2keras:Converting ONNX operation\n",
      "DEBUG:onnx2keras:type: Tanh\n",
      "DEBUG:onnx2keras:node_name: sequential_5/dense_11/Tanh0\n",
      "DEBUG:onnx2keras:node_params: {'change_ordering': False, 'name_policy': None}\n",
      "DEBUG:onnx2keras:...\n",
      "DEBUG:onnx2keras:Check if all inputs are available:\n",
      "DEBUG:onnx2keras:Check input 0 (name sequential_5/dense_11/MatMul0).\n",
      "DEBUG:onnx2keras:... found all, continue\n",
      "DEBUG:onnx2keras:Output TF Layer -> KerasTensor(type_spec=TensorSpec(shape=(None, 5), dtype=tf.float32, name=None), name='sequential_5/dense_11/Tanh0/Tanh:0', description=\"created by layer 'sequential_5/dense_11/Tanh0'\")\n",
      "DEBUG:onnx2keras:######\n",
      "DEBUG:onnx2keras:...\n",
      "DEBUG:onnx2keras:Converting ONNX operation\n",
      "DEBUG:onnx2keras:type: MatMul\n",
      "DEBUG:onnx2keras:node_name: dense_12\n",
      "DEBUG:onnx2keras:node_params: {'change_ordering': False, 'name_policy': None}\n",
      "DEBUG:onnx2keras:...\n",
      "DEBUG:onnx2keras:Check if all inputs are available:\n",
      "DEBUG:onnx2keras:Check input 0 (name sequential_5/dense_11/Tanh0).\n",
      "DEBUG:onnx2keras:Check input 1 (name sequential_5/dense_12/MatMul/ReadVariableOp0).\n",
      "DEBUG:onnx2keras:The input not found in layers / model inputs.\n",
      "DEBUG:onnx2keras:Found in weights, add as a numpy constant.\n",
      "DEBUG:onnx2keras:... found all, continue\n",
      "DEBUG:onnx2keras:gemm:Convert GEMM without bias.\n",
      "DEBUG:onnx2keras:gemm:Input units 5, output units 1.\n",
      "DEBUG:onnx2keras:Output TF Layer -> KerasTensor(type_spec=TensorSpec(shape=(None, 1), dtype=tf.float32, name=None), name='dense_12/MatMul:0', description=\"created by layer 'dense_12'\")\n"
     ]
    }
   ],
   "source": [
    "onnx_model = onnx.load('D:\\\\Unity\\\\UnityProjects\\\\Review 1\\\\Assets\\\\Scripts\\\\Capstone\\\\Sohan-Review1\\\\ANN.onnx')\n",
    "\n",
    "# Call the converter (input - is the main model input name, can be different for your model)\n",
    "k_model = onnx_to_keras(onnx_model, ['_input'])"
   ]
  },
  {
   "cell_type": "code",
   "execution_count": 61,
   "metadata": {},
   "outputs": [
    {
     "name": "stdout",
     "output_type": "stream",
     "text": [
      "Model: \"model_5\"\n",
      "_________________________________________________________________\n",
      " Layer (type)                Output Shape              Param #   \n",
      "=================================================================\n",
      " _input (InputLayer)         [(None, 7)]               0         \n",
      "                                                                 \n",
      " sequential_5//MatMul0 (Dens  (None, 5)                35        \n",
      " e)                                                              \n",
      "                                                                 \n",
      " sequential_5//Relu0 (Activa  (None, 5)                0         \n",
      " tion)                                                           \n",
      "                                                                 \n",
      " sequential_5/dense_11/MatMu  (None, 5)                25        \n",
      " l0 (Dense)                                                      \n",
      "                                                                 \n",
      " sequential_5/dense_11/Tanh0  (None, 5)                0         \n",
      "  (Activation)                                                   \n",
      "                                                                 \n",
      " dense_12 (Dense)            (None, 1)                 5         \n",
      "                                                                 \n",
      "=================================================================\n",
      "Total params: 65\n",
      "Trainable params: 65\n",
      "Non-trainable params: 0\n",
      "_________________________________________________________________\n"
     ]
    }
   ],
   "source": [
    "k_model.summary()"
   ]
  },
  {
   "cell_type": "code",
   "execution_count": 62,
   "metadata": {},
   "outputs": [],
   "source": [
    "model = k_model"
   ]
  },
  {
   "cell_type": "code",
   "execution_count": 68,
   "metadata": {},
   "outputs": [
    {
     "name": "stdout",
     "output_type": "stream",
     "text": [
      "[array([[ 0.06869698, -0.03704006, -0.01161597,  0.0184393 ,  0.01765572],\n",
      "       [-0.06304011, -0.01877929, -0.00057307,  0.00323238, -0.09679367],\n",
      "       [ 0.09398817,  0.03551976, -0.00287829, -0.0428159 , -0.04847225],\n",
      "       [ 0.04933408,  0.01021043,  0.00891814,  0.0255892 , -0.10352264],\n",
      "       [ 0.02245389, -0.00680307, -0.07163229, -0.02534749,  0.0546287 ],\n",
      "       [-0.07082719,  0.05500218,  0.04372307,  0.01810461, -0.07318514],\n",
      "       [-0.06614375, -0.1077574 ,  0.08100144, -0.04884461, -0.01510823]],\n",
      "      dtype=float32), array([[ 0.0183992 ,  0.06433729,  0.014858  , -0.07416479,  0.08241815],\n",
      "       [-0.05545906,  0.00989848,  0.02002415, -0.04859306, -0.02392938],\n",
      "       [ 0.11420554,  0.01302291, -0.05708818, -0.02994936,  0.00706961],\n",
      "       [-0.0790047 ,  0.05686978,  0.04162441,  0.031898  , -0.06008282],\n",
      "       [ 0.06757351, -0.00791486,  0.1266769 ,  0.05123531,  0.0749846 ]],\n",
      "      dtype=float32), array([[ 0.00699681],\n",
      "       [ 0.01373485],\n",
      "       [-0.00284139],\n",
      "       [ 0.01245562],\n",
      "       [ 0.03447392]], dtype=float32)]\n"
     ]
    }
   ],
   "source": [
    "print(model.get_weights())"
   ]
  },
  {
   "cell_type": "code",
   "execution_count": 69,
   "metadata": {},
   "outputs": [
    {
     "name": "stdout",
     "output_type": "stream",
     "text": [
      "[<keras.engine.input_layer.InputLayer object at 0x000001EFA8ACE6D0>, <keras.layers.core.dense.Dense object at 0x000001EFA8993AC0>, <keras.layers.core.activation.Activation object at 0x000001EFA8ADEEE0>, <keras.layers.core.dense.Dense object at 0x000001EFA8AE9850>, <keras.layers.core.activation.Activation object at 0x000001EFA8AE9790>, <keras.layers.core.dense.Dense object at 0x000001EFA8ADE0A0>]\n"
     ]
    }
   ],
   "source": [
    "print(model.layers)"
   ]
  },
  {
   "cell_type": "code",
   "execution_count": 71,
   "metadata": {},
   "outputs": [],
   "source": [
    "from unicodedata import name\n",
    "from keras.models import Sequential\n",
    "from keras.layers import Dense"
   ]
  },
  {
   "cell_type": "code",
   "execution_count": 107,
   "metadata": {},
   "outputs": [],
   "source": [
    "dic = model.layers[3].get_config()"
   ]
  },
  {
   "cell_type": "code",
   "execution_count": 109,
   "metadata": {},
   "outputs": [],
   "source": [
    "dic['units'] = 6"
   ]
  },
  {
   "cell_type": "code",
   "execution_count": 110,
   "metadata": {},
   "outputs": [],
   "source": [
    "dic = model.layers[3].get_config()"
   ]
  },
  {
   "cell_type": "code",
   "execution_count": 111,
   "metadata": {},
   "outputs": [
    {
     "name": "stdout",
     "output_type": "stream",
     "text": [
      "{'name': 'sequential_5/dense_11/MatMul0', 'trainable': True, 'dtype': 'float32', 'units': 5, 'activation': 'linear', 'use_bias': False, 'kernel_initializer': {'class_name': 'Zeros', 'config': {}}, 'bias_initializer': {'class_name': 'Zeros', 'config': {}}, 'kernel_regularizer': None, 'bias_regularizer': None, 'activity_regularizer': None, 'kernel_constraint': None, 'bias_constraint': None}\n"
     ]
    }
   ],
   "source": [
    "print(dic)"
   ]
  },
  {
   "cell_type": "code",
   "execution_count": 98,
   "metadata": {},
   "outputs": [
    {
     "name": "stdout",
     "output_type": "stream",
     "text": [
      "6\n"
     ]
    }
   ],
   "source": [
    "print(len(model.layers))"
   ]
  },
  {
   "cell_type": "code",
   "execution_count": 93,
   "metadata": {},
   "outputs": [],
   "source": [
    "new = Sequential()\n",
    "for layer in model.layers:\n",
    "    new.add(layer)\n",
    "    "
   ]
  },
  {
   "cell_type": "code",
   "execution_count": 94,
   "metadata": {},
   "outputs": [
    {
     "name": "stdout",
     "output_type": "stream",
     "text": [
      "Model: \"sequential_1\"\n",
      "_________________________________________________________________\n",
      " Layer (type)                Output Shape              Param #   \n",
      "=================================================================\n",
      " sequential_5//MatMul0 (Dens  (None, 5)                35        \n",
      " e)                                                              \n",
      "                                                                 \n",
      " sequential_5//Relu0 (Activa  (None, 5)                0         \n",
      " tion)                                                           \n",
      "                                                                 \n",
      " sequential_5/dense_11/MatMu  (None, 5)                25        \n",
      " l0 (Dense)                                                      \n",
      "                                                                 \n",
      " sequential_5/dense_11/Tanh0  (None, 5)                0         \n",
      "  (Activation)                                                   \n",
      "                                                                 \n",
      " dense_12 (Dense)            (None, 1)                 5         \n",
      "                                                                 \n",
      "=================================================================\n",
      "Total params: 65\n",
      "Trainable params: 65\n",
      "Non-trainable params: 0\n",
      "_________________________________________________________________\n",
      "None\n"
     ]
    }
   ],
   "source": [
    "print(new.summary())"
   ]
  },
  {
   "cell_type": "code",
   "execution_count": 95,
   "metadata": {},
   "outputs": [],
   "source": [
    "stack = []\n",
    "stack.append(new.pop())"
   ]
  },
  {
   "cell_type": "code",
   "execution_count": 97,
   "metadata": {},
   "outputs": [
    {
     "name": "stdout",
     "output_type": "stream",
     "text": [
      "[None]\n"
     ]
    }
   ],
   "source": [
    "print(stack)"
   ]
  },
  {
   "cell_type": "code",
   "execution_count": 96,
   "metadata": {},
   "outputs": [
    {
     "name": "stdout",
     "output_type": "stream",
     "text": [
      "Model: \"sequential_1\"\n",
      "_________________________________________________________________\n",
      " Layer (type)                Output Shape              Param #   \n",
      "=================================================================\n",
      " sequential_5//MatMul0 (Dens  (None, 5)                35        \n",
      " e)                                                              \n",
      "                                                                 \n",
      " sequential_5//Relu0 (Activa  (None, 5)                0         \n",
      " tion)                                                           \n",
      "                                                                 \n",
      " sequential_5/dense_11/MatMu  (None, 5)                25        \n",
      " l0 (Dense)                                                      \n",
      "                                                                 \n",
      " sequential_5/dense_11/Tanh0  (None, 5)                0         \n",
      "  (Activation)                                                   \n",
      "                                                                 \n",
      "=================================================================\n",
      "Total params: 60\n",
      "Trainable params: 60\n",
      "Non-trainable params: 0\n",
      "_________________________________________________________________\n"
     ]
    }
   ],
   "source": [
    "new.summary()"
   ]
  }
 ],
 "metadata": {
  "kernelspec": {
   "display_name": "Python 3.9.7 64-bit",
   "language": "python",
   "name": "python3"
  },
  "language_info": {
   "codemirror_mode": {
    "name": "ipython",
    "version": 3
   },
   "file_extension": ".py",
   "mimetype": "text/x-python",
   "name": "python",
   "nbconvert_exporter": "python",
   "pygments_lexer": "ipython3",
   "version": "3.9.7"
  },
  "orig_nbformat": 4,
  "vscode": {
   "interpreter": {
    "hash": "7b8f719ba4be990d48d5d79d13322d4aa39842e56a0d0263f5000a4c3e01c816"
   }
  }
 },
 "nbformat": 4,
 "nbformat_minor": 2
}
