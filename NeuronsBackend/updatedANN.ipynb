{
 "cells": [
  {
   "cell_type": "code",
   "execution_count": 1,
   "metadata": {},
   "outputs": [],
   "source": [
    "from unicodedata import name\n",
    "from keras.models import Sequential\n",
    "from keras.layers import Dense\n"
   ]
  },
  {
   "cell_type": "code",
   "execution_count": 2,
   "metadata": {},
   "outputs": [],
   "source": [
    "newmodel = Sequential()\n",
    "\n",
    "# Defining the Input layer and FIRST hidden layer, both are same!\n",
    "newmodel.add(Dense(units=5, input_dim=7, kernel_initializer='normal', activation='relu'))\n",
    "\n",
    "# Defining the Second layer of the model\n",
    "# after the first layer we don't have to specify input_dim as keras configure it automatically\n",
    "newmodel.add(Dense(units=6, kernel_initializer='normal', activation='tanh'))\n",
    "\n",
    "# The output neuron is a single fully connected node \n",
    "# Since we will be predicting a single number\n",
    "newmodel.add(Dense(1, kernel_initializer='normal'))\n"
   ]
  },
  {
   "cell_type": "code",
   "execution_count": 3,
   "metadata": {},
   "outputs": [],
   "source": [
    "newmodel.load_weights('weights')"
   ]
  },
  {
   "cell_type": "code",
   "execution_count": 4,
   "metadata": {},
   "outputs": [
    {
     "data": {
      "text/plain": [
       "[array([[ 0.26018   , -0.25986463, -0.26137364,  0.27419063,  0.21564314],\n",
       "        [ 0.22583991, -0.24365923, -0.2533461 ,  0.24800245,  0.2714464 ],\n",
       "        [-0.18252711,  0.24468404,  0.26175734, -0.07091657, -0.14453416],\n",
       "        [-0.16009206,  0.10525325,  0.11674461, -0.03122249, -0.10320532],\n",
       "        [ 0.06267378,  0.12009878,  0.06300337, -0.056673  , -0.01808654],\n",
       "        [ 0.03777277,  0.04253545,  0.03647057, -0.01638531, -0.05307421],\n",
       "        [ 0.00817827,  0.10213455,  0.02497949, -0.07986367, -0.11653981]],\n",
       "       dtype=float32),\n",
       " array([0.25600025, 0.20919976, 0.20819639, 0.25541753, 0.2459631 ],\n",
       "       dtype=float32),\n",
       " array([[-0.19991107, -0.28414714,  0.26100773, -0.30522478, -0.2732377 ,\n",
       "         -0.11481238],\n",
       "        [ 0.21360853,  0.3146705 , -0.23762776,  0.19925158,  0.2648562 ,\n",
       "         -0.09506173],\n",
       "        [ 0.18625975,  0.26122814, -0.28725618,  0.15753506,  0.25604692,\n",
       "         -0.3618276 ],\n",
       "        [-0.25932366, -0.20212226,  0.25030184, -0.20273493, -0.3425228 ,\n",
       "         -0.27553493],\n",
       "        [-0.28435814, -0.19437763,  0.16040379, -0.32328403, -0.23675793,\n",
       "          0.18536559]], dtype=float32),\n",
       " array([0., 0., 0., 0., 0., 0.], dtype=float32),\n",
       " array([[0.],\n",
       "        [0.],\n",
       "        [0.],\n",
       "        [0.],\n",
       "        [0.],\n",
       "        [0.]], dtype=float32),\n",
       " array([0.02014334], dtype=float32)]"
      ]
     },
     "execution_count": 4,
     "metadata": {},
     "output_type": "execute_result"
    }
   ],
   "source": [
    "newmodel.get_weights()"
   ]
  },
  {
   "cell_type": "code",
   "execution_count": 5,
   "metadata": {},
   "outputs": [],
   "source": [
    "newmodel.compile(loss='mean_squared_error', optimizer='adam')"
   ]
  },
  {
   "cell_type": "code",
   "execution_count": 6,
   "metadata": {},
   "outputs": [
    {
     "data": {
      "text/html": [
       "<div>\n",
       "<style scoped>\n",
       "    .dataframe tbody tr th:only-of-type {\n",
       "        vertical-align: middle;\n",
       "    }\n",
       "\n",
       "    .dataframe tbody tr th {\n",
       "        vertical-align: top;\n",
       "    }\n",
       "\n",
       "    .dataframe thead th {\n",
       "        text-align: right;\n",
       "    }\n",
       "</style>\n",
       "<table border=\"1\" class=\"dataframe\">\n",
       "  <thead>\n",
       "    <tr style=\"text-align: right;\">\n",
       "      <th></th>\n",
       "      <th>Age</th>\n",
       "      <th>KM</th>\n",
       "      <th>Weight</th>\n",
       "      <th>HP</th>\n",
       "      <th>MetColor</th>\n",
       "      <th>CC</th>\n",
       "      <th>Doors</th>\n",
       "      <th>Price</th>\n",
       "    </tr>\n",
       "  </thead>\n",
       "  <tbody>\n",
       "    <tr>\n",
       "      <th>0</th>\n",
       "      <td>23.0</td>\n",
       "      <td>46986</td>\n",
       "      <td>1165.0</td>\n",
       "      <td>90</td>\n",
       "      <td>1</td>\n",
       "      <td>2000.0</td>\n",
       "      <td>3</td>\n",
       "      <td>13500</td>\n",
       "    </tr>\n",
       "    <tr>\n",
       "      <th>1</th>\n",
       "      <td>23.0</td>\n",
       "      <td>72937</td>\n",
       "      <td>1165.0</td>\n",
       "      <td>90</td>\n",
       "      <td>1</td>\n",
       "      <td>2000.0</td>\n",
       "      <td>3</td>\n",
       "      <td>13750</td>\n",
       "    </tr>\n",
       "    <tr>\n",
       "      <th>2</th>\n",
       "      <td>24.0</td>\n",
       "      <td>41711</td>\n",
       "      <td>1165.0</td>\n",
       "      <td>90</td>\n",
       "      <td>1</td>\n",
       "      <td>2000.0</td>\n",
       "      <td>3</td>\n",
       "      <td>13950</td>\n",
       "    </tr>\n",
       "    <tr>\n",
       "      <th>3</th>\n",
       "      <td>26.0</td>\n",
       "      <td>48000</td>\n",
       "      <td>1165.0</td>\n",
       "      <td>90</td>\n",
       "      <td>0</td>\n",
       "      <td>2000.0</td>\n",
       "      <td>3</td>\n",
       "      <td>14950</td>\n",
       "    </tr>\n",
       "    <tr>\n",
       "      <th>4</th>\n",
       "      <td>30.0</td>\n",
       "      <td>38500</td>\n",
       "      <td>1170.0</td>\n",
       "      <td>90</td>\n",
       "      <td>0</td>\n",
       "      <td>2000.0</td>\n",
       "      <td>3</td>\n",
       "      <td>13750</td>\n",
       "    </tr>\n",
       "  </tbody>\n",
       "</table>\n",
       "</div>"
      ],
      "text/plain": [
       "    Age     KM  Weight  HP  MetColor      CC  Doors  Price\n",
       "0  23.0  46986  1165.0  90         1  2000.0      3  13500\n",
       "1  23.0  72937  1165.0  90         1  2000.0      3  13750\n",
       "2  24.0  41711  1165.0  90         1  2000.0      3  13950\n",
       "3  26.0  48000  1165.0  90         0  2000.0      3  14950\n",
       "4  30.0  38500  1170.0  90         0  2000.0      3  13750"
      ]
     },
     "execution_count": 6,
     "metadata": {},
     "output_type": "execute_result"
    }
   ],
   "source": [
    "# Reading the cleaned numeric car prices data\n",
    "import pandas as pd\n",
    "import numpy as np\n",
    "\n",
    "# To remove the scientific notation from numpy arrays\n",
    "np.set_printoptions(suppress=True)\n",
    "\n",
    "CarPricesDataNumeric=pd.read_pickle('CarPricesData.pkl')\n",
    "CarPricesDataNumeric.head()"
   ]
  },
  {
   "cell_type": "code",
   "execution_count": 7,
   "metadata": {},
   "outputs": [
    {
     "name": "stdout",
     "output_type": "stream",
     "text": [
      "(1004, 7)\n",
      "(1004, 1)\n",
      "(431, 7)\n",
      "(431, 1)\n"
     ]
    }
   ],
   "source": [
    "# Separate Target Variable and Predictor Variables\n",
    "TargetVariable=['Price']\n",
    "Predictors=['Age', 'KM', 'Weight', 'HP', 'MetColor', 'CC', 'Doors']\n",
    "\n",
    "X=CarPricesDataNumeric[Predictors].values\n",
    "y=CarPricesDataNumeric[TargetVariable].values\n",
    "\n",
    "### Sandardization of data ###\n",
    "from sklearn.preprocessing import StandardScaler\n",
    "PredictorScaler=StandardScaler()\n",
    "TargetVarScaler=StandardScaler()\n",
    "\n",
    "# Storing the fit object for later reference\n",
    "PredictorScalerFit=PredictorScaler.fit(X)\n",
    "TargetVarScalerFit=TargetVarScaler.fit(y)\n",
    "\n",
    "# Generating the standardized values of X and y\n",
    "X=PredictorScalerFit.transform(X)\n",
    "y=TargetVarScalerFit.transform(y)\n",
    "\n",
    "# Split the data into training and testing set\n",
    "from sklearn.model_selection import train_test_split\n",
    "X_train, X_test, y_train, y_test = train_test_split(X, y, test_size=0.3, random_state=42)\n",
    "\n",
    "# Quick sanity check with the shapes of Training and testing datasets\n",
    "print(X_train.shape)\n",
    "print(y_train.shape)\n",
    "print(X_test.shape)\n",
    "print(y_test.shape)"
   ]
  },
  {
   "cell_type": "code",
   "execution_count": 8,
   "metadata": {},
   "outputs": [
    {
     "name": "stdout",
     "output_type": "stream",
     "text": [
      "67/67 [==============================] - 1s 1ms/step - loss: 0.8495\n",
      "67/67 [==============================] - 0s 1ms/step - loss: 0.5547\n",
      "67/67 [==============================] - 0s 1ms/step - loss: 0.3875\n",
      "67/67 [==============================] - 0s 1ms/step - loss: 0.3233\n",
      "67/67 [==============================] - 0s 1ms/step - loss: 0.2876\n"
     ]
    }
   ],
   "source": [
    "for _ in range(5):\n",
    "    newmodel.fit(X_train, y_train, batch_size = 15, epochs = 1, verbose=1)"
   ]
  },
  {
   "cell_type": "code",
   "execution_count": 9,
   "metadata": {},
   "outputs": [
    {
     "data": {
      "text/plain": [
       "[array([[ 0.4499867 , -0.47380415, -0.478202  ,  0.46762845,  0.41546598],\n",
       "        [ 0.19013187, -0.32406485, -0.3297185 ,  0.19251637,  0.2962058 ],\n",
       "        [-0.20942305,  0.41499114,  0.4310645 , -0.08158383, -0.18330014],\n",
       "        [-0.14473608,  0.10811359,  0.13318077,  0.02520574, -0.12093213],\n",
       "        [ 0.1452367 ,  0.12441258,  0.0614786 , -0.00895103,  0.05304672],\n",
       "        [ 0.12945853, -0.01544089, -0.01152006,  0.0935207 ,  0.02598571],\n",
       "        [ 0.06745277, -0.00010603, -0.07501119,  0.00722132, -0.09750124]],\n",
       "       dtype=float32),\n",
       " array([0.4158796 , 0.25507063, 0.2633755 , 0.4188899 , 0.38858286],\n",
       "       dtype=float32),\n",
       " array([[-0.32872748, -0.41563186,  0.39225218, -0.43247518, -0.40204775,\n",
       "          0.05795834],\n",
       "        [ 0.3790105 ,  0.44131505, -0.37650836,  0.3718593 ,  0.40241948,\n",
       "         -0.26159   ],\n",
       "        [ 0.35451862,  0.3923    , -0.43008924,  0.33274844,  0.3973808 ,\n",
       "         -0.53231525],\n",
       "        [-0.38782635, -0.33277836,  0.3808933 , -0.32894152, -0.4716066 ,\n",
       "         -0.10374855],\n",
       "        [-0.37607408, -0.29014036,  0.25642955, -0.40986302, -0.32436302,\n",
       "          0.34488153]], dtype=float32),\n",
       " array([-0.00288765, -0.09275357,  0.0720391 ,  0.02834022, -0.05279703,\n",
       "         0.11602043], dtype=float32),\n",
       " array([[ 0.20009834],\n",
       "        [ 0.19456641],\n",
       "        [-0.19667685],\n",
       "        [ 0.20014177],\n",
       "        [ 0.19295685],\n",
       "        [-0.21579883]], dtype=float32),\n",
       " array([0.13107188], dtype=float32)]"
      ]
     },
     "execution_count": 9,
     "metadata": {},
     "output_type": "execute_result"
    }
   ],
   "source": [
    "newmodel.get_weights()"
   ]
  },
  {
   "cell_type": "code",
   "execution_count": 10,
   "metadata": {},
   "outputs": [
    {
     "name": "stdout",
     "output_type": "stream",
     "text": [
      "WARNING:tensorflow:From c:\\Python 3.9\\lib\\site-packages\\tf2onnx\\tf_loader.py:711: extract_sub_graph (from tensorflow.python.framework.graph_util_impl) is deprecated and will be removed in a future version.\n",
      "Instructions for updating:\n",
      "Use `tf.compat.v1.graph_util.extract_sub_graph`\n"
     ]
    }
   ],
   "source": [
    "import tf2onnx\n",
    "output = \"updatedANN.onnx\"\n",
    "saved = tf2onnx.convert.from_keras(newmodel, output_path = output)"
   ]
  }
 ],
 "metadata": {
  "kernelspec": {
   "display_name": "Python 3.9.7 64-bit",
   "language": "python",
   "name": "python3"
  },
  "language_info": {
   "codemirror_mode": {
    "name": "ipython",
    "version": 3
   },
   "file_extension": ".py",
   "mimetype": "text/x-python",
   "name": "python",
   "nbconvert_exporter": "python",
   "pygments_lexer": "ipython3",
   "version": "3.9.7"
  },
  "orig_nbformat": 4,
  "vscode": {
   "interpreter": {
    "hash": "7b8f719ba4be990d48d5d79d13322d4aa39842e56a0d0263f5000a4c3e01c816"
   }
  }
 },
 "nbformat": 4,
 "nbformat_minor": 2
}
