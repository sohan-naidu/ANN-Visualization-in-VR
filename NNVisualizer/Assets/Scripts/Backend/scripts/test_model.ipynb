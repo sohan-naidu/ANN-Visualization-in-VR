{
 "cells": [
  {
   "cell_type": "code",
   "execution_count": 46,
   "metadata": {},
   "outputs": [],
   "source": [
    "from keras import models\n",
    "from globals import *\n",
    "import os\n",
    "import numpy as np\n",
    "import pandas as pd"
   ]
  },
  {
   "cell_type": "code",
   "execution_count": 50,
   "metadata": {},
   "outputs": [
    {
     "name": "stdout",
     "output_type": "stream",
     "text": [
      "1/1 [==============================] - 0s 55ms/step\n",
      "Trained model predictions\n",
      "[0 0 0 0]\n",
      "1/1 [==============================] - 0s 52ms/step\n",
      "Unrained model predictions\n",
      "[0 0 0 0]\n"
     ]
    }
   ],
   "source": [
    "#Trained model predictions\n",
    "model = models.load_model(\"../output/epoch_45.h5\")\n",
    "\n",
    "df = pd.read_csv(\"../input/dataset.csv\")\n",
    "df = df.drop(columns=[df.columns[0],df.columns[3]])\n",
    "x = np.array(df.head())\n",
    "\n",
    "y = model.predict(x)\n",
    "#If classification \n",
    "y = np.argmax(y, axis = 1)\n",
    "print(\"Trained model predictions\")\n",
    "print(y)\n",
    "\n",
    "# Untrained model predictions\n",
    "model = models.load_model(\"../output/epoch_0.h5\")\n",
    "df = pd.read_csv(\"../input/dataset.csv\")\n",
    "df = df.drop(columns=[df.columns[0],df.columns[3]])\n",
    "x = np.array(df.head())\n",
    "\n",
    "y = model.predict(x)\n",
    "#If classification \n",
    "y = np.argmax(y, axis = 1)\n",
    "print(\"Unrained model predictions\")\n",
    "print(y)"
   ]
  },
  {
   "cell_type": "code",
   "execution_count": null,
   "metadata": {},
   "outputs": [],
   "source": []
  }
 ],
 "metadata": {
  "kernelspec": {
   "display_name": "Python 3.9.7 64-bit",
   "language": "python",
   "name": "python3"
  },
  "language_info": {
   "codemirror_mode": {
    "name": "ipython",
    "version": 3
   },
   "file_extension": ".py",
   "mimetype": "text/x-python",
   "name": "python",
   "nbconvert_exporter": "python",
   "pygments_lexer": "ipython3",
   "version": "3.9.7"
  },
  "orig_nbformat": 4,
  "vscode": {
   "interpreter": {
    "hash": "32e6fd54b972e560bf555057cf7caded13c6623a32d6767f93c9abd36a6efaed"
   }
  }
 },
 "nbformat": 4,
 "nbformat_minor": 2
}
